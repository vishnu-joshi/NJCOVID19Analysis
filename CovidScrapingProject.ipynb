{
 "cells": [
  {
   "cell_type": "code",
   "execution_count": 1,
   "metadata": {},
   "outputs": [],
   "source": [
    "import numpy as np\n",
    "import pandas as pd\n",
    "import urllib.request\n",
    "from bs4 import BeautifulSoup"
   ]
  },
  {
   "cell_type": "code",
   "execution_count": 2,
   "metadata": {},
   "outputs": [],
   "source": [
    "#loading in data about NJ's counties - name, population density, and total population\n",
    "url = \"https://en.wikipedia.org/wiki/List_of_counties_in_New_Jersey\"\n",
    "html = urllib.request.urlopen(url).read()\n",
    "soup = BeautifulSoup(html)\n",
    "\n",
    "tablerows = soup.find( \"table\", {\"class\":\"wikitable sortable\"} ).findAll(\"tr\")\n",
    "'''\n",
    "for row in tablerows[1:]:\n",
    "    print(len(row.findAll(\"td\")))\n",
    "\n",
    "'''\n",
    "njcounties = []\n",
    "\n",
    "for row in tablerows[1:]:\n",
    "    countyname = row.find(\"th\").find(\"a\").string\n",
    "    popdensity = float((row.findAll(\"td\")[6].string).replace('\\n','').replace(',',''))\n",
    "    population = row.find(\"span\").string.replace(',','')\n",
    "    njcounties.append((countyname, popdensity, population))\n",
    "\n",
    "njdf = pd.DataFrame(njcounties)"
   ]
  },
  {
   "cell_type": "code",
   "execution_count": 3,
   "metadata": {},
   "outputs": [],
   "source": [
    "#loading in data about NJ's COVID-19 Cases - total cases, deaths, and recoveries\n",
    "url = \"https://en.wikipedia.org/wiki/2020_coronavirus_pandemic_in_New_Jersey\"\n",
    "html = urllib.request.urlopen(url).read()\n",
    "soup = BeautifulSoup(html)\n",
    "\n",
    "tablerows = soup.find( \"table\", {\"class\":\"wikitable sortable\"} ).findAll(\"tr\")\n",
    "\n",
    "covidbycounty = []\n",
    "for row in tablerows[2:-2]:\n",
    "    alltds = row.findAll(\"td\")\n",
    "    totalcovidcases = int(alltds[1].string.replace('\\n','').replace(',',''))\n",
    "    totaldeaths = int(alltds[2].string.replace('\\n','').replace(',',''))\n",
    "    totalrecovered = int(alltds[3].string.replace('\\n','').replace(',',''))\n",
    "    covidbycounty.append((totalcovidcases, totaldeaths, totalrecovered))\n",
    "\n",
    "covidbycounty = pd.DataFrame(covidbycounty)"
   ]
  },
  {
   "cell_type": "code",
   "execution_count": 4,
   "metadata": {},
   "outputs": [],
   "source": [
    "#loading in data about NJ's Median Household Income by county\n",
    "url = \"https://en.wikipedia.org/wiki/List_of_New_Jersey_locations_by_per_capita_income\"\n",
    "html = urllib.request.urlopen(url).read()\n",
    "soup = BeautifulSoup(html)\n",
    "\n",
    "tablerows = soup.find( \"table\", {\"class\":\"wikitable sortable\"} ).findAll(\"tr\")\n",
    "\n",
    "listoftups = []\n",
    "for row in tablerows[1:]:\n",
    "    countyname = row.findAll('td')[1].find('a').string\n",
    "    if (countyname == 'New Jersey' or countyname == 'United States'):\n",
    "        continue\n",
    "    medianhousehold = row.findAll(\"td\")[3].string.replace(',','').replace('\\n','').replace('$','')\n",
    "    listoftups.append((countyname, medianhousehold))\n",
    "    \n",
    "sorted_by_alpha = sorted(listoftups, key=lambda tup: tup[0])\n",
    "byincome = pd.DataFrame(sorted_by_alpha)"
   ]
  },
  {
   "cell_type": "code",
   "execution_count": 5,
   "metadata": {},
   "outputs": [],
   "source": [
    "#loading in data about NJ county voting lines - who voted blue vs red\n",
    "url = \"https://www.nytimes.com/elections/2016/results/new-jersey\"\n",
    "html = urllib.request.urlopen(url).read()\n",
    "soup = BeautifulSoup(html)\n",
    "\n",
    "#print(html)\n",
    "\n",
    "nonhidden = soup.find( \"div\", {\"class\":\"eln-county-table-container\"} ).findAll(\"tr\", {\"class\":\"eln-row\"})\n",
    "votinglines = []\n",
    "for row in nonhidden:\n",
    "    countyname = row.find(\"td\", {\"class\":\"eln-cell eln-name\"}).string\n",
    "    demvotercount = row.find(\"td\", {\"class\":\"eln-cell eln-candidate\"})\n",
    "    if (demvotercount.find(\"div\", {\"class\":\"eln-vote-count eln-swatch-light eln-democrat\"})):\n",
    "        demvotercount = demvotercount.find(\"div\", {\"class\":\"eln-vote-count eln-swatch-light eln-democrat\"}).string\n",
    "    else:\n",
    "        demvotercount = demvotercount.find(\"div\", {\"class\":\"eln-vote-count\"}).string\n",
    "    demvotercount = int(demvotercount.replace('\\n','').replace(',',''))\n",
    "    \n",
    "    repvotercount = row.find(\"td\", {\"class\":\"eln-cell eln-candidate eln-last-candidate\"})\n",
    "    if (repvotercount.find(\"div\", {\"class\":\"eln-vote-count eln-swatch-light eln-republican\"})):\n",
    "        repvotercount = repvotercount.find(\"div\", {\"class\":\"eln-vote-count eln-swatch-light eln-republican\"}).string\n",
    "    else:\n",
    "        repvotercount = repvotercount.find(\"div\", {\"class\":\"eln-vote-count\"}).string\n",
    "    repvotercount = int(repvotercount.replace('\\n','').replace(',',''))\n",
    "    votinglines.append((countyname, demvotercount, repvotercount))\n",
    "\n",
    "sort_by_alpha = sorted(votinglines, key=lambda tup: tup[0])\n",
    "byvotinglines = pd.DataFrame(sort_by_alpha)"
   ]
  },
  {
   "cell_type": "code",
   "execution_count": 6,
   "metadata": {},
   "outputs": [
    {
     "name": "stdout",
     "output_type": "stream",
     "text": [
      "           CountyName  popDensity TotalPopulation  totalcovidcases  \\\n",
      "0     Atlantic County      489.39          265429              211   \n",
      "1       Bergen County     3868.02          936692             8928   \n",
      "2   Burlington County      557.43          445384              954   \n",
      "3       Camden County     2313.77          507078             1072   \n",
      "4     Cape May County      381.43           92560              116   \n",
      "5   Cumberland County      320.85          150972              138   \n",
      "6        Essex County     6221.98          799767             6580   \n",
      "7   Gloucester County      887.04          291408              447   \n",
      "8       Hudson County    13495.02          676061             6411   \n",
      "9    Hunterdon County      298.49          124714              293   \n",
      "10      Mercer County     1621.74          369811             1282   \n",
      "11   Middlesex County     2604.05          829685             5060   \n",
      "12    Monmouth County     1335.55          621354             3496   \n",
      "13      Morris County     1049.63          494228             2771   \n",
      "14       Ocean County      629.44          601651             3269   \n",
      "15     Passaic County     2709.33          503310             5017   \n",
      "16       Salem County      195.51           62607               46   \n",
      "17    Somerset County     1060.47          331164             1523   \n",
      "18      Sussex County      286.50          140799              413   \n",
      "19       Union County     5208.73          558067             5575   \n",
      "20      Warren County      303.61          105779              337   \n",
      "\n",
      "    totaldeaths  totalrecovered medianincome  votedblue  votedred  \n",
      "0             6              26        54766      60924     52690  \n",
      "1           390               2        81708     231211    175529  \n",
      "2            22              48        76258     121725     89272  \n",
      "3            29               0        60976     146717     72631  \n",
      "4             5              15        54292      18750     28446  \n",
      "5             3               0        50651      27771     24453  \n",
      "6           352               0        55125     240837     63176  \n",
      "7             8               0        72664      66870     67544  \n",
      "8           163              84        55275     163917     49043  \n",
      "9             7               1       100980      28898     38712  \n",
      "10           39              24        71217     104775     46193  \n",
      "11          168               0        77615     193044    122953  \n",
      "12          107               0        82265     137181    166723  \n",
      "13          135              18        96747     115249    126071  \n",
      "14          121               0        59620      87150    179079  \n",
      "15          101               0        54944     116759     72902  \n",
      "16            3               0        59441      11904     16381  \n",
      "17           69               0        97440      85689     65505  \n",
      "18           26               0        83089      24212     46658  \n",
      "19          161              48        66791     147414     68114  \n",
      "20           15              18        71364      17281     29858  \n"
     ]
    }
   ],
   "source": [
    "#Concatenating all dataframes that were created and labeling columns\n",
    "njdf = pd.concat([njdf, covidbycounty, byincome.loc[:,'1':'1'], byvotinglines.loc[:,'1':'2']], axis = 1)\n",
    "njdf.columns = ['CountyName','popDensity',\n",
    "                          'TotalPopulation','totalcovidcases',\n",
    "                          'totaldeaths','totalrecovered', 'medianincome', 'votedblue', 'votedred']\n",
    "print(njdf)"
   ]
  }
 ],
 "metadata": {
  "kernelspec": {
   "display_name": "Python 3",
   "language": "python",
   "name": "python3"
  },
  "language_info": {
   "codemirror_mode": {
    "name": "ipython",
    "version": 3
   },
   "file_extension": ".py",
   "mimetype": "text/x-python",
   "name": "python",
   "nbconvert_exporter": "python",
   "pygments_lexer": "ipython3",
   "version": "3.7.6"
  }
 },
 "nbformat": 4,
 "nbformat_minor": 4
}
